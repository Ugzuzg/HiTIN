{
 "cells": [
  {
   "cell_type": "code",
   "execution_count": 1,
   "metadata": {},
   "outputs": [
    {
     "name": "stderr",
     "output_type": "stream",
     "text": [
      "/tmp/ipykernel_55214/3420178448.py:3: TqdmExperimentalWarning: Using `tqdm.autonotebook.tqdm` in notebook mode. Use `tqdm.tqdm` instead to force console mode (e.g. in jupyter console)\n",
      "  from tqdm.autonotebook import tqdm\n"
     ]
    }
   ],
   "source": [
    "import pandas as pd\n",
    "import csv\n",
    "from tqdm.autonotebook import tqdm\n",
    "tqdm.pandas()"
   ]
  },
  {
   "cell_type": "code",
   "execution_count": 2,
   "metadata": {},
   "outputs": [
    {
     "data": {
      "text/html": [
       "<div>\n",
       "<style scoped>\n",
       "    .dataframe tbody tr th:only-of-type {\n",
       "        vertical-align: middle;\n",
       "    }\n",
       "\n",
       "    .dataframe tbody tr th {\n",
       "        vertical-align: top;\n",
       "    }\n",
       "\n",
       "    .dataframe thead th {\n",
       "        text-align: right;\n",
       "    }\n",
       "</style>\n",
       "<table border=\"1\" class=\"dataframe\">\n",
       "  <thead>\n",
       "    <tr style=\"text-align: right;\">\n",
       "      <th></th>\n",
       "      <th>desc</th>\n",
       "      <th>lang</th>\n",
       "      <th>cpv</th>\n",
       "    </tr>\n",
       "  </thead>\n",
       "  <tbody>\n",
       "    <tr>\n",
       "      <th>0</th>\n",
       "      <td>Marché de travaux d'entretien en plomberie des parties communes et des logements habites des cites de 13 habitat.</td>\n",
       "      <td>FR</td>\n",
       "      <td>45330000</td>\n",
       "    </tr>\n",
       "    <tr>\n",
       "      <th>1</th>\n",
       "      <td>Mantenimiento base de datos de instalaciones (BDI) y Scada.</td>\n",
       "      <td>ES</td>\n",
       "      <td>50800000</td>\n",
       "    </tr>\n",
       "    <tr>\n",
       "      <th>2</th>\n",
       "      <td>Aménagement des consultations externes au rez-de-chaussée du bâtiment principal.</td>\n",
       "      <td>FR</td>\n",
       "      <td>45000000</td>\n",
       "    </tr>\n",
       "    <tr>\n",
       "      <th>3</th>\n",
       "      <td>Limpieza, carboneo y mantenimiento centrales térmicas y ciclos combinados.</td>\n",
       "      <td>ES</td>\n",
       "      <td>76100000</td>\n",
       "    </tr>\n",
       "    <tr>\n",
       "      <th>4</th>\n",
       "      <td>— la location, l'installation et la desinstallation de système embarqué de géolocalisation dans les engins d'exploitation routière,</td>\n",
       "      <td>FR</td>\n",
       "      <td>79714100</td>\n",
       "    </tr>\n",
       "  </tbody>\n",
       "</table>\n",
       "</div>"
      ],
      "text/plain": [
       "                                                                                                                                  desc  \\\n",
       "0                    Marché de travaux d'entretien en plomberie des parties communes et des logements habites des cites de 13 habitat.   \n",
       "1                                                                          Mantenimiento base de datos de instalaciones (BDI) y Scada.   \n",
       "2                                                     Aménagement des consultations externes au rez-de-chaussée du bâtiment principal.   \n",
       "3                                                           Limpieza, carboneo y mantenimiento centrales térmicas y ciclos combinados.   \n",
       "4  — la location, l'installation et la desinstallation de système embarqué de géolocalisation dans les engins d'exploitation routière,   \n",
       "\n",
       "  lang       cpv  \n",
       "0   FR  45330000  \n",
       "1   ES  50800000  \n",
       "2   FR  45000000  \n",
       "3   ES  76100000  \n",
       "4   FR  79714100  "
      ]
     },
     "execution_count": 2,
     "metadata": {},
     "output_type": "execute_result"
    }
   ],
   "source": [
    "pd.set_option('display.max_colwidth', None)\n",
    "\n",
    "df = pd.read_csv('cpv/all.csv', sep=',', quotechar='\"', quoting=csv.QUOTE_MINIMAL, usecols=[1, 2, 3], dtype={'cpv': object})\n",
    "df.head()"
   ]
  },
  {
   "cell_type": "code",
   "execution_count": 3,
   "metadata": {},
   "outputs": [],
   "source": [
    "df.dropna(inplace=True)"
   ]
  },
  {
   "cell_type": "code",
   "execution_count": 4,
   "metadata": {},
   "outputs": [],
   "source": [
    "cpv = list(pd.read_csv('cpv/cpv.csv', dtype={'CODE': object})['CODE'])"
   ]
  },
  {
   "cell_type": "code",
   "execution_count": 5,
   "metadata": {},
   "outputs": [
    {
     "data": {
      "application/vnd.jupyter.widget-view+json": {
       "model_id": "a15abfc124284c08a437bd150ac37b1e",
       "version_major": 2,
       "version_minor": 0
      },
      "text/plain": [
       "  0%|          | 0/2275396 [00:00<?, ?it/s]"
      ]
     },
     "metadata": {},
     "output_type": "display_data"
    }
   ],
   "source": [
    "df['cpv'] = df['cpv'].progress_apply(lambda v: '0' * (8 - len(v)) + v)"
   ]
  },
  {
   "cell_type": "code",
   "execution_count": 6,
   "metadata": {},
   "outputs": [
    {
     "data": {
      "application/vnd.jupyter.widget-view+json": {
       "model_id": "a817bab8c09e46a1867d9a5638af132a",
       "version_major": 2,
       "version_minor": 0
      },
      "text/plain": [
       "  0%|          | 0/2275396 [00:00<?, ?it/s]"
      ]
     },
     "metadata": {},
     "output_type": "display_data"
    },
    {
     "data": {
      "text/html": [
       "<div>\n",
       "<style scoped>\n",
       "    .dataframe tbody tr th:only-of-type {\n",
       "        vertical-align: middle;\n",
       "    }\n",
       "\n",
       "    .dataframe tbody tr th {\n",
       "        vertical-align: top;\n",
       "    }\n",
       "\n",
       "    .dataframe thead th {\n",
       "        text-align: right;\n",
       "    }\n",
       "</style>\n",
       "<table border=\"1\" class=\"dataframe\">\n",
       "  <thead>\n",
       "    <tr style=\"text-align: right;\">\n",
       "      <th></th>\n",
       "      <th>desc</th>\n",
       "      <th>lang</th>\n",
       "      <th>cpv</th>\n",
       "      <th>label</th>\n",
       "    </tr>\n",
       "  </thead>\n",
       "  <tbody>\n",
       "    <tr>\n",
       "      <th>0</th>\n",
       "      <td>Marché de travaux d'entretien en plomberie des parties communes et des logements habites des cites de 13 habitat.</td>\n",
       "      <td>FR</td>\n",
       "      <td>45330000</td>\n",
       "      <td>[45000000, 45300000, 45330000]</td>\n",
       "    </tr>\n",
       "    <tr>\n",
       "      <th>1</th>\n",
       "      <td>Mantenimiento base de datos de instalaciones (BDI) y Scada.</td>\n",
       "      <td>ES</td>\n",
       "      <td>50800000</td>\n",
       "      <td>[50000000, 50800000]</td>\n",
       "    </tr>\n",
       "    <tr>\n",
       "      <th>2</th>\n",
       "      <td>Aménagement des consultations externes au rez-de-chaussée du bâtiment principal.</td>\n",
       "      <td>FR</td>\n",
       "      <td>45000000</td>\n",
       "      <td>[45000000]</td>\n",
       "    </tr>\n",
       "    <tr>\n",
       "      <th>3</th>\n",
       "      <td>Limpieza, carboneo y mantenimiento centrales térmicas y ciclos combinados.</td>\n",
       "      <td>ES</td>\n",
       "      <td>76100000</td>\n",
       "      <td>[76000000, 76100000]</td>\n",
       "    </tr>\n",
       "    <tr>\n",
       "      <th>4</th>\n",
       "      <td>— la location, l'installation et la desinstallation de système embarqué de géolocalisation dans les engins d'exploitation routière,</td>\n",
       "      <td>FR</td>\n",
       "      <td>79714100</td>\n",
       "      <td>[79000000, 79700000, 79710000, 79714000, 79714100]</td>\n",
       "    </tr>\n",
       "  </tbody>\n",
       "</table>\n",
       "</div>"
      ],
      "text/plain": [
       "                                                                                                                                  desc  \\\n",
       "0                    Marché de travaux d'entretien en plomberie des parties communes et des logements habites des cites de 13 habitat.   \n",
       "1                                                                          Mantenimiento base de datos de instalaciones (BDI) y Scada.   \n",
       "2                                                     Aménagement des consultations externes au rez-de-chaussée du bâtiment principal.   \n",
       "3                                                           Limpieza, carboneo y mantenimiento centrales térmicas y ciclos combinados.   \n",
       "4  — la location, l'installation et la desinstallation de système embarqué de géolocalisation dans les engins d'exploitation routière,   \n",
       "\n",
       "  lang       cpv                                               label  \n",
       "0   FR  45330000                      [45000000, 45300000, 45330000]  \n",
       "1   ES  50800000                                [50000000, 50800000]  \n",
       "2   FR  45000000                                          [45000000]  \n",
       "3   ES  76100000                                [76000000, 76100000]  \n",
       "4   FR  79714100  [79000000, 79700000, 79710000, 79714000, 79714100]  "
      ]
     },
     "execution_count": 6,
     "metadata": {},
     "output_type": "execute_result"
    }
   ],
   "source": [
    "def int_to_hierarchy(v):\n",
    "    labels = [v[:2] + '0' * (len(v) - 2)]\n",
    "    for i in range(2, len(v)):\n",
    "        if v[i] == '0':\n",
    "            break\n",
    "        labels.append(v[:i + 1] + '0' * (len(v) - i - 1))\n",
    "    return [l for l in labels if l in cpv]\n",
    "\n",
    "df['label'] = df.cpv.progress_apply(int_to_hierarchy)\n",
    "\n",
    "df.head()"
   ]
  },
  {
   "cell_type": "code",
   "execution_count": 7,
   "metadata": {},
   "outputs": [],
   "source": [
    "df.desc = df.desc.str.replace(r'\\d{8}(-\\d)?', '', regex=True)"
   ]
  },
  {
   "cell_type": "code",
   "execution_count": 8,
   "metadata": {},
   "outputs": [],
   "source": [
    "from transformers import AutoTokenizer"
   ]
  },
  {
   "cell_type": "code",
   "execution_count": 9,
   "metadata": {},
   "outputs": [
    {
     "name": "stderr",
     "output_type": "stream",
     "text": [
      "Special tokens have been added in the vocabulary, make sure the associated word embeddings are fine-tuned or trained.\n"
     ]
    }
   ],
   "source": [
    "tokenizer = AutoTokenizer.from_pretrained(\"EuropeanParliament/EUBERT\")\n"
   ]
  },
  {
   "cell_type": "code",
   "execution_count": 10,
   "metadata": {},
   "outputs": [
    {
     "data": {
      "application/vnd.jupyter.widget-view+json": {
       "model_id": "e6fd359a07e0489fbfb38a16e8a520c8",
       "version_major": 2,
       "version_minor": 0
      },
      "text/plain": [
       "  0%|          | 0/2275396 [00:00<?, ?it/s]"
      ]
     },
     "metadata": {},
     "output_type": "display_data"
    },
    {
     "name": "stderr",
     "output_type": "stream",
     "text": [
      "Token indices sequence length is longer than the specified maximum sequence length for this model (589 > 512). Running this sequence through the model will result in indexing errors\n"
     ]
    }
   ],
   "source": [
    "df['token'] = df.desc.progress_apply(lambda x: tokenizer.tokenize(x))"
   ]
  },
  {
   "cell_type": "code",
   "execution_count": 11,
   "metadata": {},
   "outputs": [
    {
     "data": {
      "text/html": [
       "<div>\n",
       "<style scoped>\n",
       "    .dataframe tbody tr th:only-of-type {\n",
       "        vertical-align: middle;\n",
       "    }\n",
       "\n",
       "    .dataframe tbody tr th {\n",
       "        vertical-align: top;\n",
       "    }\n",
       "\n",
       "    .dataframe thead th {\n",
       "        text-align: right;\n",
       "    }\n",
       "</style>\n",
       "<table border=\"1\" class=\"dataframe\">\n",
       "  <thead>\n",
       "    <tr style=\"text-align: right;\">\n",
       "      <th></th>\n",
       "      <th>desc</th>\n",
       "      <th>lang</th>\n",
       "      <th>cpv</th>\n",
       "      <th>label</th>\n",
       "      <th>token</th>\n",
       "    </tr>\n",
       "  </thead>\n",
       "  <tbody>\n",
       "    <tr>\n",
       "      <th>0</th>\n",
       "      <td>Marché de travaux d'entretien en plomberie des parties communes et des logements habites des cites de 13 habitat.</td>\n",
       "      <td>FR</td>\n",
       "      <td>45330000</td>\n",
       "      <td>[45000000, 45300000, 45330000]</td>\n",
       "      <td>[marche, de, travaux, d, ', entre, ##tien, en, plo, ##mb, ##erie, des, parties, communes, et, des, log, ##ements, hab, ##ites, des, cites, de, 13, habitat, .]</td>\n",
       "    </tr>\n",
       "    <tr>\n",
       "      <th>1</th>\n",
       "      <td>Mantenimiento base de datos de instalaciones (BDI) y Scada.</td>\n",
       "      <td>ES</td>\n",
       "      <td>50800000</td>\n",
       "      <td>[50000000, 50800000]</td>\n",
       "      <td>[mantenimiento, base, de, datos, de, instalaciones, (, bd, ##i, ), y, scad, ##a, .]</td>\n",
       "    </tr>\n",
       "    <tr>\n",
       "      <th>2</th>\n",
       "      <td>Aménagement des consultations externes au rez-de-chaussée du bâtiment principal.</td>\n",
       "      <td>FR</td>\n",
       "      <td>45000000</td>\n",
       "      <td>[45000000]</td>\n",
       "      <td>[amen, ##agement, des, consultations, externe, ##s, au, rez, -, de, -, chau, ##sse, ##e, du, bati, ##ment, principal, .]</td>\n",
       "    </tr>\n",
       "    <tr>\n",
       "      <th>3</th>\n",
       "      <td>Limpieza, carboneo y mantenimiento centrales térmicas y ciclos combinados.</td>\n",
       "      <td>ES</td>\n",
       "      <td>76100000</td>\n",
       "      <td>[76000000, 76100000]</td>\n",
       "      <td>[lim, ##pie, ##za, ,, carbone, ##o, y, mantenimiento, centrales, term, ##icas, y, ciclo, ##s, combina, ##dos, .]</td>\n",
       "    </tr>\n",
       "    <tr>\n",
       "      <th>4</th>\n",
       "      <td>— la location, l'installation et la desinstallation de système embarqué de géolocalisation dans les engins d'exploitation routière,</td>\n",
       "      <td>FR</td>\n",
       "      <td>79714100</td>\n",
       "      <td>[79000000, 79700000, 79710000, 79714000, 79714100]</td>\n",
       "      <td>[—, la, location, ,, l, ', installation, et, la, desi, ##ns, ##tal, ##lation, de, systeme, embar, ##que, de, geo, ##loc, ##alisation, dans, les, eng, ##ins, d, ', exploitation, rou, ##tiere, ,]</td>\n",
       "    </tr>\n",
       "  </tbody>\n",
       "</table>\n",
       "</div>"
      ],
      "text/plain": [
       "                                                                                                                                  desc  \\\n",
       "0                    Marché de travaux d'entretien en plomberie des parties communes et des logements habites des cites de 13 habitat.   \n",
       "1                                                                          Mantenimiento base de datos de instalaciones (BDI) y Scada.   \n",
       "2                                                     Aménagement des consultations externes au rez-de-chaussée du bâtiment principal.   \n",
       "3                                                           Limpieza, carboneo y mantenimiento centrales térmicas y ciclos combinados.   \n",
       "4  — la location, l'installation et la desinstallation de système embarqué de géolocalisation dans les engins d'exploitation routière,   \n",
       "\n",
       "  lang       cpv                                               label  \\\n",
       "0   FR  45330000                      [45000000, 45300000, 45330000]   \n",
       "1   ES  50800000                                [50000000, 50800000]   \n",
       "2   FR  45000000                                          [45000000]   \n",
       "3   ES  76100000                                [76000000, 76100000]   \n",
       "4   FR  79714100  [79000000, 79700000, 79710000, 79714000, 79714100]   \n",
       "\n",
       "                                                                                                                                                                                               token  \n",
       "0                                     [marche, de, travaux, d, ', entre, ##tien, en, plo, ##mb, ##erie, des, parties, communes, et, des, log, ##ements, hab, ##ites, des, cites, de, 13, habitat, .]  \n",
       "1                                                                                                                [mantenimiento, base, de, datos, de, instalaciones, (, bd, ##i, ), y, scad, ##a, .]  \n",
       "2                                                                           [amen, ##agement, des, consultations, externe, ##s, au, rez, -, de, -, chau, ##sse, ##e, du, bati, ##ment, principal, .]  \n",
       "3                                                                                   [lim, ##pie, ##za, ,, carbone, ##o, y, mantenimiento, centrales, term, ##icas, y, ciclo, ##s, combina, ##dos, .]  \n",
       "4  [—, la, location, ,, l, ', installation, et, la, desi, ##ns, ##tal, ##lation, de, systeme, embar, ##que, de, geo, ##loc, ##alisation, dans, les, eng, ##ins, d, ', exploitation, rou, ##tiere, ,]  "
      ]
     },
     "execution_count": 11,
     "metadata": {},
     "output_type": "execute_result"
    }
   ],
   "source": [
    "df.head()"
   ]
  },
  {
   "cell_type": "code",
   "execution_count": 12,
   "metadata": {},
   "outputs": [
    {
     "name": "stderr",
     "output_type": "stream",
     "text": [
      "/home/ugzuzg/gh/Rooooyy/HiTIN/.venv/lib/python3.11/site-packages/numpy/core/fromnumeric.py:59: FutureWarning: 'DataFrame.swapaxes' is deprecated and will be removed in a future version. Please use 'DataFrame.transpose' instead.\n",
      "  return bound(*args, **kwds)\n"
     ]
    }
   ],
   "source": [
    "import numpy as np\n",
    "\n",
    "train, validate, test = np.split(df[['label', 'token']].sample(frac=1, random_state=42), [int(.7 * len(df)), int(.85 * len(df))])"
   ]
  },
  {
   "cell_type": "code",
   "execution_count": 13,
   "metadata": {},
   "outputs": [],
   "source": [
    "train.to_json('cpv/cpv_train.json', orient='records', lines=True)\n",
    "validate.to_json('cpv/cpv_val.json', orient='records', lines=True)\n",
    "test.to_json('cpv/cpv_test.json', orient='records', lines=True)"
   ]
  }
 ],
 "metadata": {
  "kernelspec": {
   "display_name": "Python 3",
   "language": "python",
   "name": "python3"
  },
  "language_info": {
   "codemirror_mode": {
    "name": "ipython",
    "version": 3
   },
   "file_extension": ".py",
   "mimetype": "text/x-python",
   "name": "python",
   "nbconvert_exporter": "python",
   "pygments_lexer": "ipython3",
   "version": "3.11.6"
  }
 },
 "nbformat": 4,
 "nbformat_minor": 2
}
